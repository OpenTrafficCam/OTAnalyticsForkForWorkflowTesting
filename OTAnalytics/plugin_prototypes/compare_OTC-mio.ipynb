{
 "cells": [
  {
   "attachments": {},
   "cell_type": "markdown",
   "metadata": {},
   "source": [
    "# Use the manual count parser prototype with OTAnalytics\n",
    "\n",
    "> Note: The base path is set in `.vscode/settings.json` to workspace path. Otherwise Jupyter can't import OTAnalytics."
   ]
  },
  {
   "attachments": {},
   "cell_type": "markdown",
   "metadata": {},
   "source": [
    "## Import the prototype modules\n",
    "\n",
    "Before working with events, you need to import the event_processor to convert the events to a shaped data frame."
   ]
  },
  {
   "cell_type": "code",
   "execution_count": 1,
   "metadata": {},
   "outputs": [],
   "source": [
    "# Import libraries and modules\n",
    "# OTAnalytics modules\n",
    "from OTAnalytics.plugin_prototypes.manual_count_parser.manual_count_parser import (\n",
    "    ExcelCountParser,\n",
    ")\n",
    "from OTAnalytics.plugin_prototypes.mc_miovision_parser.mc_miovision_parser import (\n",
    "    McMioParser,\n",
    ")\n",
    "from OTAnalytics.plugin_prototypes.event_parser.event_parser import EventParser\n",
    "from OTAnalytics.plugin_prototypes.counter.counter import Counter\n",
    "import pandas as pd\n",
    "import plotly.express as px\n",
    "\n",
    "\n",
    "%load_ext autoreload\n",
    "%autoreload 2"
   ]
  },
  {
   "attachments": {},
   "cell_type": "markdown",
   "metadata": {},
   "source": [
    "## Set config variables\n",
    "\n",
    "In the current version, confiogs for prototypes are stored in dictionries within the Jupyter notebook. In a future version, the will likely be stored in a config file.\n",
    "\n",
    "The path to the eventlists can be a path to a single event list or a folder (all otevent files within this folder will be imported)."
   ]
  },
  {
   "cell_type": "code",
   "execution_count": 3,
   "metadata": {},
   "outputs": [],
   "source": [
    "# Set env parameters and path\n",
    "CONFIG = {\n",
    "    \"EXCEL_PATH\": \"/Volumes/platomo data/Produkte/OpenTrafficCam/Videos andere Cams/Modus Consult Tests/2023-04-25_Testdaten/Max (PLATOMO@sebastian.buck)/K3_Forster Str-BNeumann-Str_24h_Kfz-SV_Di.xlsm\",\n",
    "    \"TIME_FORMAT\": \"%d.%m%.%y %H:%M Uhr\",\n",
    "    \"FILTER_CLASS\": [],\n",
    "    \"FILTER_SECTION\": [],\n",
    "    \"EVENTLIST_PATH\": \"/Volumes/platomo data/Projekte/012 Videoauswertung LBV-SH B57/videos\",\n",
    "    \"SECTIONSLIST_PATH\": \"/Volumes/platomo data/Projekte/012 Videoauswertung LBV-SH B57/videos/sectionlist_SH_new.otflow\",\n",
    "    \"FROM_TIME\": \"2023-03-28 00:00:00\",\n",
    "    \"TO_TIME\": \"2023-03-29 00:00:00\",\n",
    "    \"INTERVAL_LENGTH_MIN\": 15,  # in minutes\n",
    "    \"DIRECTION_NAMES\": {\n",
    "        \"first_to_last_section\": \"in\",\n",
    "        \"last_to_first_section\": \"out\",\n",
    "    },\n",
    "}"
   ]
  },
  {
   "attachments": {},
   "cell_type": "markdown",
   "metadata": {},
   "source": [
    "## Define flows"
   ]
  },
  {
   "cell_type": "code",
   "execution_count": 4,
   "metadata": {},
   "outputs": [],
   "source": [
    "classes_street = [\n",
    "    \"bicyclist\",\n",
    "    \"bicyclist_with_trailer\",\n",
    "    \"cargobike_driver\",\n",
    "    \"car\",\n",
    "    \"car_with_trailer\",\n",
    "    \"bus\",\n",
    "    \"motorcyclist\",\n",
    "    \"delivery_van_with_trailer\",\n",
    "    \"delivery_van\",\n",
    "    \"private_van\",\n",
    "    \"private_van_with_trailer\",\n",
    "    \"truck\",\n",
    "    \"truck_with_trailer\",\n",
    "    \"truck_with_semitrailer\",\n",
    "]\n",
    "\n",
    "flow_names = {\n",
    "    \"Strom 01\": {\n",
    "        \"classes\": classes_street,\n",
    "        \"from\": [\"B75_West_S1-2-3_start_S4_end\", \"B75_West_S1-2_start_S4-8-12_end\"],\n",
    "        \"to\": [\n",
    "            \"Kroegersweg_S2-10-11-12_start_S1-5-9_end\",\n",
    "            \"Kroegersweg_S2-10-11-12_start_S1-5-8_end\",\n",
    "        ],\n",
    "    },\n",
    "    \"Strom 02\": {\n",
    "        \"classes\": classes_street,\n",
    "        \"from\": [\n",
    "            \"B75_West_S1-2-3_start_S4_end\",\n",
    "            \"B75_Ost_S2_start\",\n",
    "            \"B75_West_S1-2_start_S4-8-12_end\",\n",
    "            \"Kroegersweg_S2-10-11-12_start_S1-5-9_end\",\n",
    "            \"Kroegersweg_S2-10-11-12_start_S1-5-8_end\",\n",
    "        ],\n",
    "        \"to\": [\"B75_Ost_S2-6_end_1\", \"B75_Ost_S2-6_end_2\"],\n",
    "    },\n",
    "    \"Strom 03\": {\n",
    "        \"classes\": classes_street,\n",
    "        \"from\": [\"B75_West_S1-2-3_start_S4_end\"],\n",
    "        \"to\": [\n",
    "            \"Rothenmoor_S4-5-6_start_S3-7-11_end\",\n",
    "            \"Rothenmoor_S4-5-6_start_S3-7-11-Q2S_end\",\n",
    "        ],\n",
    "    },\n",
    "    \"Strom 04\": {\n",
    "        \"classes\": classes_street,\n",
    "        \"from\": [\n",
    "            \"Rothenmoor_S4-5-6_start_S3-7-11_end\",\n",
    "            \"Rothenmoor_S4-5-6_start_S3-7-11-Q2S_end\",\n",
    "        ],\n",
    "        \"to\": [\n",
    "            \"B75_West_S1-2-3_start_S4_end\",\n",
    "            \"B75_West_S1-2_start_S4-8-12_end\",\n",
    "            \"B75_West_S4-8-12_end\",\n",
    "        ],\n",
    "    },\n",
    "    \"Strom 05\": {\n",
    "        \"classes\": classes_street,\n",
    "        \"from\": [\n",
    "            \"Rothenmoor_S4-5-6_start_S3-7-11_end\",\n",
    "            \"Rothenmoor_S4-5-6_start_S3-7-11-Q2S_end\",\n",
    "        ],\n",
    "        \"to\": [\n",
    "            \"Kroegersweg_S2-10-11-12_start_S1-5-9_end\",\n",
    "            \"Kroegersweg_S2-10-11-12_start_S1-5-8_end\",\n",
    "            \"B75_Ost_S2-7-8-9_start_S5_end\",\n",
    "        ],\n",
    "    },\n",
    "    \"Strom 06\": {\n",
    "        \"classes\": classes_street,\n",
    "        \"from\": [\n",
    "            \"Rothenmoor_S4-5-6_start_S3-7-11_end\",\n",
    "            \"Rothenmoor_S4-5-6_start_S3-7-11-Q2S_end\",\n",
    "        ],\n",
    "        \"to\": [\"B75_Ost_S2-6_end_1\", \"B75_Ost_S2-6_end_2\"],\n",
    "    },\n",
    "    \"Strom 07\": {\n",
    "        \"classes\": classes_street,\n",
    "        \"from\": [\"B75_Ost_S2-7-8-9_start_S5_end\"],\n",
    "        \"to\": [\n",
    "            \"Rothenmoor_S4-5-6_start_S3-7-11_end\",\n",
    "            \"Rothenmoor_S4-5-6_start_S3-7-11-Q2S_end\",\n",
    "        ],\n",
    "    },\n",
    "    \"Strom 08\": {\n",
    "        \"classes\": classes_street,\n",
    "        \"from\": [\"B75_Ost_S2-7-8-9_start_S5_end\"],\n",
    "        \"to\": [\n",
    "            \"Kroegersweg_S2-10-11-12_start_S1-5-8_end\",\n",
    "            \"B75_West_S4-8-12_end\",\n",
    "            \"B75_West_S1-2_start_S4-8-12_end\",\n",
    "        ],\n",
    "    },\n",
    "    \"Strom 09\": {\n",
    "        \"classes\": classes_street,\n",
    "        \"from\": [\"B75_Ost_S2-7-8-9_start_S5_end\"],\n",
    "        \"to\": [\"Kroegersweg_S2-10-11-12_start_S1-5-9_end\"],\n",
    "    },\n",
    "    \"Strom 10\": {\n",
    "        \"classes\": classes_street,\n",
    "        \"from\": [\n",
    "            \"Kroegersweg_S2-10-11-12_start_S1-5-9_end\",\n",
    "        ],\n",
    "        \"to\": [\"B75_Ost_S2-6_end_1\", \"B75_Ost_S2-6_end_2\"],\n",
    "    },\n",
    "    \"Strom 11\": {\n",
    "        \"classes\": classes_street,\n",
    "        \"from\": [\n",
    "            \"Kroegersweg_S2-10-11-12_start_S1-5-9_end\",\n",
    "            \"Kroegersweg_S2-10-11-12_start_S1-5-8_end\",\n",
    "        ],\n",
    "        \"to\": [\n",
    "            \"Rothenmoor_S4-5-6_start_S3-7-11_end\",\n",
    "            \"Rothenmoor_S4-5-6_start_S3-7-11-Q2S_end\",\n",
    "        ],\n",
    "    },\n",
    "    \"Strom 12\": {\n",
    "        \"classes\": classes_street,\n",
    "        \"from\": [\n",
    "            \"Kroegersweg_S2-10-11-12_start_S1-5-9_end\",\n",
    "            \"Kroegersweg_S2-10-11-12_start_S1-5-8_end\",\n",
    "        ],\n",
    "        \"to\": [\"B75_West_S4-8-12_end\", \"B75_West_S1-2_start_S4-8-12_end\"],\n",
    "    }\n",
    "}\n",
    "\n",
    "mode_mapper = {\n",
    "    \"bicyclist\": \"RAD\",\n",
    "    \"bicyclist_with_trailer\": \"RAD\",\n",
    "    \"cargobike_driver\": \"RAD\",\n",
    "    \"car\": \"PKW & LFW\",\n",
    "    \"car_with_trailer\": \"PKW & LFW\",\n",
    "    \"bus\": \"BUS\",\n",
    "    \"motorcyclist\": \"KRAD\",\n",
    "    \"delivery_van\": \"PKW & LFW\",\n",
    "    \"delivery_van_with_trailer\": \"PKW & LFW\",\n",
    "    \"private_van\": \"PKW & LFW\",\n",
    "    \"private_van_with_trailer\": \"PKW & LFW\",\n",
    "    \"truck\": \"LKW ab 3,5t\",\n",
    "    \"truck_with_trailer\": \"LZ/SFZ\",\n",
    "    \"truck_with_semitrailer\": \"LZ/SFZ\",\n",
    "}"
   ]
  },
  {
   "attachments": {},
   "cell_type": "markdown",
   "metadata": {},
   "source": [
    "## Import Events"
   ]
  },
  {
   "cell_type": "code",
   "execution_count": 35,
   "metadata": {},
   "outputs": [
    {
     "data": {
      "text/plain": [
       "'events.to_csv(\\n    \"/Users/michaelheilig/platomo/Projekte/012 Videoauswertung LBV-SH B75/work/Auswertung/Detection/B75_SH_events.csv\",\\n    index=False,\\n)'"
      ]
     },
     "execution_count": 35,
     "metadata": {},
     "output_type": "execute_result"
    }
   ],
   "source": [
    "event_processor = EventParser(CONFIG)\n",
    "events = event_processor.process_events()\n",
    "\"\"\"events.to_csv(\n",
    "    \"/Users/michaelheilig/platomo/Projekte/012 Videoauswertung LBV-SH B75/work/Auswertung/Detection/B75_SH_events.csv\",\n",
    "    index=False,\n",
    ")\"\"\""
   ]
  },
  {
   "attachments": {},
   "cell_type": "markdown",
   "metadata": {},
   "source": [
    "## Create Flow Table"
   ]
  },
  {
   "cell_type": "code",
   "execution_count": 34,
   "metadata": {},
   "outputs": [
    {
     "ename": "NameError",
     "evalue": "name 'events' is not defined",
     "output_type": "error",
     "traceback": [
      "\u001b[0;31m---------------------------------------------------------------------------\u001b[0m",
      "\u001b[0;31mNameError\u001b[0m                                 Traceback (most recent call last)",
      "Cell \u001b[0;32mIn[34], line 1\u001b[0m\n\u001b[0;32m----> 1\u001b[0m flow_processor \u001b[39m=\u001b[39m Counter(CONFIG, events)\n\u001b[1;32m      3\u001b[0m filter_sections \u001b[39m=\u001b[39m []\n\u001b[1;32m      4\u001b[0m filter_classes \u001b[39m=\u001b[39m []\n",
      "\u001b[0;31mNameError\u001b[0m: name 'events' is not defined"
     ]
    }
   ],
   "source": [
    "flow_processor = Counter(CONFIG, events)\n",
    "\n",
    "filter_sections = []\n",
    "filter_classes = []\n",
    "\n",
    "flows = flow_processor.get_flows(filter_sections, filter_classes)\n",
    "flow_table = flow_processor.create_flow_table(filter_sections, filter_classes)\n",
    "flow_table = flow_table[flow_table[\"from_section\"] != flow_table[\"to_section\"]]\n",
    "flow_table = flow_processor.convert_flow_table(\n",
    "    flow_table, flow_names, mode_mapper, aggregated=True\n",
    ")"
   ]
  },
  {
   "attachments": {},
   "cell_type": "markdown",
   "metadata": {},
   "source": [
    "## Import Excel File"
   ]
  },
  {
   "cell_type": "code",
   "execution_count": 33,
   "metadata": {},
   "outputs": [],
   "source": [
    "parser = McMioParser(\n",
    "    id_dict=id_dict,\n",
    "    CONFIG=CONFIG,\n",
    "    access_roads={\"Zufahrt1\": \"Bahnhofstraße (N)\", \n",
    "                \"Zufahrt3\": \"Bahnhofstraße (O)\", \n",
    "                \"Zufahrt5\": \"Bahnhofstraße (S)\" , \n",
    "                \"Zufahrt7\": \"Bismarckstraße\"}\n",
    ")\n",
    "excel_table_processed = parser.excel_parser(aggregate=True)"
   ]
  },
  {
   "attachments": {},
   "cell_type": "markdown",
   "metadata": {},
   "source": [
    "## Compare results"
   ]
  },
  {
   "cell_type": "code",
   "execution_count": null,
   "metadata": {},
   "outputs": [],
   "source": [
    "compare_flows = (\n",
    "    pd.merge(\n",
    "        flow_table,\n",
    "        excel_table_processed,\n",
    "        on=[\"Datum\", \"Uhrzeit\", \"Strom-Bezeichnung\", \"Fzg-Typ\"],\n",
    "        how=\"left\",\n",
    "        suffixes=[\"_det\", \"_real\"],\n",
    "    )\n",
    "    .fillna(0)\n",
    "    .rename({\"Anzahl_det\": \"Videodetektion\", \"Anzahl_real\": \"Manuelle Zählung\"}, axis=1)\n",
    ")"
   ]
  },
  {
   "attachments": {},
   "cell_type": "markdown",
   "metadata": {},
   "source": [
    "## Plot comparison"
   ]
  },
  {
   "cell_type": "code",
   "execution_count": null,
   "metadata": {},
   "outputs": [],
   "source": [
    "flow_plot_data = pd.melt(\n",
    "    compare_flows,\n",
    "    id_vars=[\"Datum\", \"Uhrzeit\", \"Strom-Bezeichnung\", \"Fzg-Typ\"],\n",
    "    value_vars=[\"Videodetektion\", \"Manuelle Zählung\"],\n",
    "    value_name=\"Anzahl\",\n",
    "    var_name=\"Quelle\",\n",
    ")"
   ]
  },
  {
   "cell_type": "code",
   "execution_count": null,
   "metadata": {},
   "outputs": [],
   "source": [
    "plot_data = flow_plot_data\n",
    "fig = px.bar(\n",
    "    plot_data,\n",
    "    x=\"Uhrzeit\",\n",
    "    y=\"Anzahl\",\n",
    "    color=\"Quelle\",\n",
    "    category_orders={\"Quelle\": [\"Manuelle Zählung\", \"Videodetektion\"]},\n",
    "    barmode=\"group\",\n",
    "    facet_row=\"Strom-Bezeichnung\",\n",
    "    height=len(plot_data[\"Strom-Bezeichnung\"].unique()) * 400,\n",
    "    facet_row_spacing=0.02,\n",
    "    title=\"Vergleich Videodetektion - manuelle Zählung (je Strom)\",\n",
    "    custom_data=[\"Quelle\", \"Fzg-Typ\"],\n",
    ")\n",
    "fig.update_xaxes(title=\"Uhrzeit\", visible=True, showticklabels=True)\n",
    "fig.update_traces(\n",
    "    hovertemplate=\"Time:%{x}<br>Value:%{value}<br>Fzg-Typ:%{customdata[1]}\"\n",
    ")\n",
    "fig.write_html(\n",
    "    \"/Users/michaelheilig/platomo/Projekte/012 Videoauswertung LBV-SH B75/work/Auswertung/Vergleich_Zählung_B75_Ströme.html\"\n",
    ")\n",
    "fig.show()"
   ]
  },
  {
   "cell_type": "code",
   "execution_count": null,
   "metadata": {},
   "outputs": [],
   "source": [
    "plot_data = (\n",
    "    flow_plot_data.groupby([\"Datum\", \"Uhrzeit\", \"Fzg-Typ\", \"Quelle\"])\n",
    "    .sum()\n",
    "    .reset_index()\n",
    ")\n",
    "fig = px.bar(\n",
    "    plot_data,\n",
    "    x=\"Uhrzeit\",\n",
    "    y=\"Anzahl\",\n",
    "    color=\"Quelle\",\n",
    "    category_orders={\"Quelle\": [\"Manuelle Zählung\", \"Videodetektion\"]},\n",
    "    barmode=\"group\",\n",
    "    # facet_row=\"Strom-Bezeichnung\",\n",
    "    # height=len(plot_data[\"Strom-Bezeichnung\"].unique()) * 400,\n",
    "    title=\"Vergleich Videodetektion - manuelle Zählung (alle Ströme)\",\n",
    "    custom_data=[\"Quelle\", \"Fzg-Typ\"],\n",
    ")\n",
    "fig.update_xaxes(title=\"Uhrzeit\", visible=True, showticklabels=True)\n",
    "fig.update_traces(\n",
    "    hovertemplate=\"Time:%{x}<br>Value:%{value}<br>Fzg-Typ:%{customdata[1]}\"\n",
    ")\n",
    "fig.write_html(\n",
    "    \"/Users/michaelheilig/platomo/Projekte/012 Videoauswertung LBV-SH B75/work/Auswertung/Vergleich_Zählung_B75_gesamt.html\"\n",
    ")\n",
    "\n",
    "fig.show()"
   ]
  },
  {
   "attachments": {},
   "cell_type": "markdown",
   "metadata": {},
   "source": [
    "## Export Files"
   ]
  },
  {
   "cell_type": "code",
   "execution_count": null,
   "metadata": {},
   "outputs": [],
   "source": [
    "parser = ExcelCountParser(\n",
    "    id_dict=id_dict,\n",
    "    CONFIG=CONFIG,\n",
    ")\n",
    "excel_events = parser.excel_parser(aggregate=False).drop(\"Anzahl\", axis=1)\n",
    "excel_events = excel_events[\n",
    "    (\n",
    "        (excel_events[\"Uhrzeit\"].str.match(\"0[0-7]:\\d\\d:*\"))\n",
    "        | (excel_events[\"Uhrzeit\"].str.match(\"[1][8-9]:\\d\\d:*\"))\n",
    "        | (excel_events[\"Uhrzeit\"].str.match(\"[2][0-4]:\\d\\d:*\"))\n",
    "    )\n",
    "    & (excel_events[\"Strom-Bezeichnung\"] != \"SIDEWALK\")\n",
    "]\n",
    "flow_processor = Counter(CONFIG, events)\n",
    "\n",
    "flows_export = flow_processor.convert_flow_table(\n",
    "    flows, flow_names, mode_mapper, aggregated=False\n",
    ")\n",
    "flows_export_day = flows_export[\n",
    "    (flows_export[\"Uhrzeit\"].str.match(\"0[8-9]:\\d\\d:*\"))\n",
    "    | (flows_export[\"Uhrzeit\"].str.match(\"[1][0-7]:\\d\\d:*\"))\n",
    "    | (flows_export[\"Strom-Bezeichnung\"].str.match(\"Strom\\sQ\\s2*\"))\n",
    "]\n",
    "flows_export_merged = (\n",
    "    pd.concat([flows_export_day, excel_events])\n",
    "    .sort_values([\"Datum\", \"Uhrzeit\"])\n",
    "    .reset_index(drop=True)\n",
    ")"
   ]
  },
  {
   "cell_type": "code",
   "execution_count": null,
   "metadata": {},
   "outputs": [],
   "source": [
    "parser = ExcelCountParser(\n",
    "    id_dict=id_dict,\n",
    "    CONFIG=CONFIG,\n",
    ")\n",
    "excel_table = parser.excel_parser(aggregate=True)\n",
    "excel_table = pd.merge(\n",
    "    flow_table.drop(\"Anzahl\", axis=1),\n",
    "    excel_table,\n",
    "    on=[\"Datum\", \"Uhrzeit\", \"Strom-Bezeichnung\", \"Fzg-Typ\"],\n",
    "    how=\"outer\",\n",
    ").fillna(0)\n",
    "excel_table = excel_table[\n",
    "    (\n",
    "        (excel_table[\"Uhrzeit\"].str.match(\"0[0-7]:\\d\\d:*\"))\n",
    "        | (excel_table[\"Uhrzeit\"].str.match(\"[1][8-9]:\\d\\d:*\"))\n",
    "        | (excel_table[\"Uhrzeit\"].str.match(\"[2][0-4]:\\d\\d:*\"))\n",
    "    )\n",
    "    & (excel_table[\"Strom-Bezeichnung\"] != \"SIDEWALK\")\n",
    "]\n",
    "\n",
    "\n",
    "flow_processor = Counter(CONFIG, events)\n",
    "\n",
    "flows_table_export_day = flow_table[\n",
    "    (flow_table[\"Uhrzeit\"].str.match(\"0[8-9]:\\d\\d:*\"))\n",
    "    | (flow_table[\"Uhrzeit\"].str.match(\"[1][0-7]:\\d\\d:*\"))\n",
    "    | (flow_table[\"Strom-Bezeichnung\"].str.match(\"Strom\\sQ\\s2*\"))\n",
    "]\n",
    "flow_table_export_merged = (\n",
    "    pd.concat([flows_table_export_day, excel_table])\n",
    "    .sort_values([\"Datum\", \"Uhrzeit\"])\n",
    "    .reset_index(drop=True)\n",
    ")"
   ]
  },
  {
   "cell_type": "code",
   "execution_count": null,
   "metadata": {},
   "outputs": [],
   "source": [
    "print(sum(excel_table[\"Anzahl\"]))\n",
    "print(len(excel_events))"
   ]
  },
  {
   "cell_type": "code",
   "execution_count": null,
   "metadata": {},
   "outputs": [],
   "source": [
    "print(len(flows_export))\n",
    "print(sum(flow_table[\"Anzahl\"]))"
   ]
  },
  {
   "cell_type": "code",
   "execution_count": null,
   "metadata": {},
   "outputs": [],
   "source": [
    "print(len(flows_export_merged))\n",
    "print(sum(flow_table_export_merged[\"Anzahl\"]))"
   ]
  },
  {
   "cell_type": "code",
   "execution_count": null,
   "metadata": {},
   "outputs": [],
   "source": [
    "flows_export.to_csv(\n",
    "    \"/Users/michaelheilig/platomo/Projekte/012 Videoauswertung LBV-SH B75/work/Auswertung/Zählung_B75_einzel.csv\",\n",
    "    index=False,\n",
    ")\n",
    "flows_export_merged.to_csv(\n",
    "    \"/Users/michaelheilig/platomo/Projekte/012 Videoauswertung LBV-SH B75/work/Auswertung/Zählung_B75_einzel_mit-manuell.csv\",\n",
    "    index=False,\n",
    ")\n",
    "\n",
    "flow_table.to_csv(\n",
    "    \"/Users/michaelheilig/platomo/Projekte/012 Videoauswertung LBV-SH B75/work/Auswertung/Zählung_B75_agg15min.csv\",\n",
    "    index=False,\n",
    ")\n",
    "flow_table_export_merged.to_csv(\n",
    "    \"/Users/michaelheilig/platomo/Projekte/012 Videoauswertung LBV-SH B75/work/Auswertung/Zählung_B75_agg15min_mit-manuell.csv\",\n",
    "    index=False,\n",
    ")"
   ]
  },
  {
   "cell_type": "code",
   "execution_count": null,
   "metadata": {},
   "outputs": [],
   "source": [
    "flows_export.to_excel(\n",
    "    \"/Users/michaelheilig/platomo/Projekte/012 Videoauswertung LBV-SH B75/work/Auswertung/Zählung_B75_einzel.xlsx\",\n",
    "    index=False,\n",
    ")\n",
    "flows_export_merged.to_excel(\n",
    "    \"/Users/michaelheilig/platomo/Projekte/012 Videoauswertung LBV-SH B75/work/Auswertung/Zählung_B75_einzel_mit-manuell.xlsx\",\n",
    "    index=False,\n",
    ")\n",
    "\n",
    "flow_table.to_excel(\n",
    "    \"/Users/michaelheilig/platomo/Projekte/012 Videoauswertung LBV-SH B75/work/Auswertung/Zählung_B75_agg15min.xlsx\",\n",
    "    index=False,\n",
    ")\n",
    "flow_table_export_merged.to_excel(\n",
    "    \"/Users/michaelheilig/platomo/Projekte/012 Videoauswertung LBV-SH B75/work/Auswertung/Zählung_B75_agg15min_mit-manuell.xlsx\",\n",
    "    index=False,\n",
    ")"
   ]
  }
 ],
 "metadata": {
  "kernelspec": {
   "display_name": "venv",
   "language": "python",
   "name": "python3"
  },
  "language_info": {
   "codemirror_mode": {
    "name": "ipython",
    "version": 3
   },
   "file_extension": ".py",
   "mimetype": "text/x-python",
   "name": "python",
   "nbconvert_exporter": "python",
   "pygments_lexer": "ipython3",
   "version": "3.10.10"
  },
  "orig_nbformat": 4
 },
 "nbformat": 4,
 "nbformat_minor": 2
}
